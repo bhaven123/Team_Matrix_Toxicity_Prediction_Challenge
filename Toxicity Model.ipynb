{
 "cells": [
  {
   "cell_type": "markdown",
   "metadata": {},
   "source": [
    "### Group Members:\n",
    "### 1) Name: Bhaven Chetan Naik, Student Number: 202004463, STFX Email: x2020ety@stfx.ca\n",
    "### 2) Name: Dhairya Kishore Bhadra, Student Number: 202005806, STFX Email: x2020flc@stfx.ca"
   ]
  },
  {
   "cell_type": "code",
   "execution_count": 1,
   "metadata": {},
   "outputs": [],
   "source": [
    "# Importing Libraries\n",
    "import pandas as pd\n",
    "import numpy as np"
   ]
  },
  {
   "cell_type": "code",
   "execution_count": 2,
   "metadata": {},
   "outputs": [],
   "source": [
    "# Loading Dataset\n",
    "chemicals = pd.read_csv(\"mapped_features_train.csv\") # csv containing mapped training features\n",
    "test_chemicals = pd.read_csv(\"mapped_features_test.csv\") # csv containing mapped test features"
   ]
  },
  {
   "cell_type": "code",
   "execution_count": 3,
   "metadata": {},
   "outputs": [
    {
     "data": {
      "text/html": [
       "<div>\n",
       "<style scoped>\n",
       "    .dataframe tbody tr th:only-of-type {\n",
       "        vertical-align: middle;\n",
       "    }\n",
       "\n",
       "    .dataframe tbody tr th {\n",
       "        vertical-align: top;\n",
       "    }\n",
       "\n",
       "    .dataframe thead th {\n",
       "        text-align: right;\n",
       "    }\n",
       "</style>\n",
       "<table border=\"1\" class=\"dataframe\">\n",
       "  <thead>\n",
       "    <tr style=\"text-align: right;\">\n",
       "      <th></th>\n",
       "      <th>Id</th>\n",
       "      <th>Expected</th>\n",
       "      <th>Chemical_Id</th>\n",
       "      <th>Assay_Id</th>\n",
       "      <th>V2</th>\n",
       "      <th>V3</th>\n",
       "      <th>V4</th>\n",
       "      <th>V5</th>\n",
       "      <th>V6</th>\n",
       "      <th>V7</th>\n",
       "      <th>...</th>\n",
       "      <th>V1066</th>\n",
       "      <th>V1067</th>\n",
       "      <th>V1068</th>\n",
       "      <th>V1069</th>\n",
       "      <th>V1070</th>\n",
       "      <th>V1071</th>\n",
       "      <th>V1072</th>\n",
       "      <th>V1073</th>\n",
       "      <th>V1074</th>\n",
       "      <th>V1075</th>\n",
       "    </tr>\n",
       "  </thead>\n",
       "  <tbody>\n",
       "    <tr>\n",
       "      <th>0</th>\n",
       "      <td>2971-36-0;1644</td>\n",
       "      <td>2</td>\n",
       "      <td>2971-36-0</td>\n",
       "      <td>1644</td>\n",
       "      <td>76302</td>\n",
       "      <td>315.982463</td>\n",
       "      <td>4.592</td>\n",
       "      <td>40.46</td>\n",
       "      <td>0.0</td>\n",
       "      <td>0.0</td>\n",
       "      <td>...</td>\n",
       "      <td>0</td>\n",
       "      <td>0</td>\n",
       "      <td>0</td>\n",
       "      <td>0</td>\n",
       "      <td>0</td>\n",
       "      <td>0</td>\n",
       "      <td>0</td>\n",
       "      <td>0</td>\n",
       "      <td>0</td>\n",
       "      <td>0</td>\n",
       "    </tr>\n",
       "    <tr>\n",
       "      <th>1</th>\n",
       "      <td>2971-36-0;1630</td>\n",
       "      <td>2</td>\n",
       "      <td>2971-36-0</td>\n",
       "      <td>1630</td>\n",
       "      <td>76302</td>\n",
       "      <td>315.982463</td>\n",
       "      <td>4.592</td>\n",
       "      <td>40.46</td>\n",
       "      <td>0.0</td>\n",
       "      <td>0.0</td>\n",
       "      <td>...</td>\n",
       "      <td>0</td>\n",
       "      <td>0</td>\n",
       "      <td>0</td>\n",
       "      <td>0</td>\n",
       "      <td>0</td>\n",
       "      <td>0</td>\n",
       "      <td>0</td>\n",
       "      <td>0</td>\n",
       "      <td>0</td>\n",
       "      <td>0</td>\n",
       "    </tr>\n",
       "    <tr>\n",
       "      <th>2</th>\n",
       "      <td>2971-36-0;29</td>\n",
       "      <td>2</td>\n",
       "      <td>2971-36-0</td>\n",
       "      <td>29</td>\n",
       "      <td>76302</td>\n",
       "      <td>315.982463</td>\n",
       "      <td>4.592</td>\n",
       "      <td>40.46</td>\n",
       "      <td>0.0</td>\n",
       "      <td>0.0</td>\n",
       "      <td>...</td>\n",
       "      <td>0</td>\n",
       "      <td>0</td>\n",
       "      <td>0</td>\n",
       "      <td>0</td>\n",
       "      <td>0</td>\n",
       "      <td>0</td>\n",
       "      <td>0</td>\n",
       "      <td>0</td>\n",
       "      <td>0</td>\n",
       "      <td>0</td>\n",
       "    </tr>\n",
       "    <tr>\n",
       "      <th>3</th>\n",
       "      <td>2971-36-0;1618</td>\n",
       "      <td>2</td>\n",
       "      <td>2971-36-0</td>\n",
       "      <td>1618</td>\n",
       "      <td>76302</td>\n",
       "      <td>315.982463</td>\n",
       "      <td>4.592</td>\n",
       "      <td>40.46</td>\n",
       "      <td>0.0</td>\n",
       "      <td>0.0</td>\n",
       "      <td>...</td>\n",
       "      <td>0</td>\n",
       "      <td>0</td>\n",
       "      <td>0</td>\n",
       "      <td>0</td>\n",
       "      <td>0</td>\n",
       "      <td>0</td>\n",
       "      <td>0</td>\n",
       "      <td>0</td>\n",
       "      <td>0</td>\n",
       "      <td>0</td>\n",
       "    </tr>\n",
       "    <tr>\n",
       "      <th>4</th>\n",
       "      <td>2971-36-0;1638</td>\n",
       "      <td>2</td>\n",
       "      <td>2971-36-0</td>\n",
       "      <td>1638</td>\n",
       "      <td>76302</td>\n",
       "      <td>315.982463</td>\n",
       "      <td>4.592</td>\n",
       "      <td>40.46</td>\n",
       "      <td>0.0</td>\n",
       "      <td>0.0</td>\n",
       "      <td>...</td>\n",
       "      <td>0</td>\n",
       "      <td>0</td>\n",
       "      <td>0</td>\n",
       "      <td>0</td>\n",
       "      <td>0</td>\n",
       "      <td>0</td>\n",
       "      <td>0</td>\n",
       "      <td>0</td>\n",
       "      <td>0</td>\n",
       "      <td>0</td>\n",
       "    </tr>\n",
       "  </tbody>\n",
       "</table>\n",
       "<p>5 rows × 1078 columns</p>\n",
       "</div>"
      ],
      "text/plain": [
       "               Id  Expected Chemical_Id  Assay_Id     V2          V3     V4  \\\n",
       "0  2971-36-0;1644         2   2971-36-0      1644  76302  315.982463  4.592   \n",
       "1  2971-36-0;1630         2   2971-36-0      1630  76302  315.982463  4.592   \n",
       "2    2971-36-0;29         2   2971-36-0        29  76302  315.982463  4.592   \n",
       "3  2971-36-0;1618         2   2971-36-0      1618  76302  315.982463  4.592   \n",
       "4  2971-36-0;1638         2   2971-36-0      1638  76302  315.982463  4.592   \n",
       "\n",
       "      V5   V6   V7  ...  V1066  V1067  V1068  V1069  V1070  V1071  V1072  \\\n",
       "0  40.46  0.0  0.0  ...      0      0      0      0      0      0      0   \n",
       "1  40.46  0.0  0.0  ...      0      0      0      0      0      0      0   \n",
       "2  40.46  0.0  0.0  ...      0      0      0      0      0      0      0   \n",
       "3  40.46  0.0  0.0  ...      0      0      0      0      0      0      0   \n",
       "4  40.46  0.0  0.0  ...      0      0      0      0      0      0      0   \n",
       "\n",
       "   V1073  V1074  V1075  \n",
       "0      0      0      0  \n",
       "1      0      0      0  \n",
       "2      0      0      0  \n",
       "3      0      0      0  \n",
       "4      0      0      0  \n",
       "\n",
       "[5 rows x 1078 columns]"
      ]
     },
     "execution_count": 3,
     "metadata": {},
     "output_type": "execute_result"
    }
   ],
   "source": [
    "# Visualizing Chemicals Data\n",
    "chemicals.head()"
   ]
  },
  {
   "cell_type": "code",
   "execution_count": 4,
   "metadata": {},
   "outputs": [
    {
     "data": {
      "text/html": [
       "<div>\n",
       "<style scoped>\n",
       "    .dataframe tbody tr th:only-of-type {\n",
       "        vertical-align: middle;\n",
       "    }\n",
       "\n",
       "    .dataframe tbody tr th {\n",
       "        vertical-align: top;\n",
       "    }\n",
       "\n",
       "    .dataframe thead th {\n",
       "        text-align: right;\n",
       "    }\n",
       "</style>\n",
       "<table border=\"1\" class=\"dataframe\">\n",
       "  <thead>\n",
       "    <tr style=\"text-align: right;\">\n",
       "      <th></th>\n",
       "      <th>x</th>\n",
       "      <th>Chemical_Id</th>\n",
       "      <th>Assay_Id</th>\n",
       "      <th>V2</th>\n",
       "      <th>V3</th>\n",
       "      <th>V4</th>\n",
       "      <th>V5</th>\n",
       "      <th>V6</th>\n",
       "      <th>V7</th>\n",
       "      <th>V8</th>\n",
       "      <th>...</th>\n",
       "      <th>V1066</th>\n",
       "      <th>V1067</th>\n",
       "      <th>V1068</th>\n",
       "      <th>V1069</th>\n",
       "      <th>V1070</th>\n",
       "      <th>V1071</th>\n",
       "      <th>V1072</th>\n",
       "      <th>V1073</th>\n",
       "      <th>V1074</th>\n",
       "      <th>V1075</th>\n",
       "    </tr>\n",
       "  </thead>\n",
       "  <tbody>\n",
       "    <tr>\n",
       "      <th>0</th>\n",
       "      <td>88-60-8;1682</td>\n",
       "      <td>88-60-8</td>\n",
       "      <td>1682</td>\n",
       "      <td>6937</td>\n",
       "      <td>164.120115</td>\n",
       "      <td>3.659</td>\n",
       "      <td>20.23</td>\n",
       "      <td>0.0</td>\n",
       "      <td>0.0</td>\n",
       "      <td>0.0</td>\n",
       "      <td>...</td>\n",
       "      <td>0</td>\n",
       "      <td>0</td>\n",
       "      <td>0</td>\n",
       "      <td>0</td>\n",
       "      <td>0</td>\n",
       "      <td>0</td>\n",
       "      <td>0</td>\n",
       "      <td>0</td>\n",
       "      <td>0</td>\n",
       "      <td>0</td>\n",
       "    </tr>\n",
       "    <tr>\n",
       "      <th>1</th>\n",
       "      <td>88-60-8;2451</td>\n",
       "      <td>88-60-8</td>\n",
       "      <td>2451</td>\n",
       "      <td>6937</td>\n",
       "      <td>164.120115</td>\n",
       "      <td>3.659</td>\n",
       "      <td>20.23</td>\n",
       "      <td>0.0</td>\n",
       "      <td>0.0</td>\n",
       "      <td>0.0</td>\n",
       "      <td>...</td>\n",
       "      <td>0</td>\n",
       "      <td>0</td>\n",
       "      <td>0</td>\n",
       "      <td>0</td>\n",
       "      <td>0</td>\n",
       "      <td>0</td>\n",
       "      <td>0</td>\n",
       "      <td>0</td>\n",
       "      <td>0</td>\n",
       "      <td>0</td>\n",
       "    </tr>\n",
       "    <tr>\n",
       "      <th>2</th>\n",
       "      <td>88-60-8;2442</td>\n",
       "      <td>88-60-8</td>\n",
       "      <td>2442</td>\n",
       "      <td>6937</td>\n",
       "      <td>164.120115</td>\n",
       "      <td>3.659</td>\n",
       "      <td>20.23</td>\n",
       "      <td>0.0</td>\n",
       "      <td>0.0</td>\n",
       "      <td>0.0</td>\n",
       "      <td>...</td>\n",
       "      <td>0</td>\n",
       "      <td>0</td>\n",
       "      <td>0</td>\n",
       "      <td>0</td>\n",
       "      <td>0</td>\n",
       "      <td>0</td>\n",
       "      <td>0</td>\n",
       "      <td>0</td>\n",
       "      <td>0</td>\n",
       "      <td>0</td>\n",
       "    </tr>\n",
       "    <tr>\n",
       "      <th>3</th>\n",
       "      <td>88-60-8;32</td>\n",
       "      <td>88-60-8</td>\n",
       "      <td>32</td>\n",
       "      <td>6937</td>\n",
       "      <td>164.120115</td>\n",
       "      <td>3.659</td>\n",
       "      <td>20.23</td>\n",
       "      <td>0.0</td>\n",
       "      <td>0.0</td>\n",
       "      <td>0.0</td>\n",
       "      <td>...</td>\n",
       "      <td>0</td>\n",
       "      <td>0</td>\n",
       "      <td>0</td>\n",
       "      <td>0</td>\n",
       "      <td>0</td>\n",
       "      <td>0</td>\n",
       "      <td>0</td>\n",
       "      <td>0</td>\n",
       "      <td>0</td>\n",
       "      <td>0</td>\n",
       "    </tr>\n",
       "    <tr>\n",
       "      <th>4</th>\n",
       "      <td>88-60-8;1382</td>\n",
       "      <td>88-60-8</td>\n",
       "      <td>1382</td>\n",
       "      <td>6937</td>\n",
       "      <td>164.120115</td>\n",
       "      <td>3.659</td>\n",
       "      <td>20.23</td>\n",
       "      <td>0.0</td>\n",
       "      <td>0.0</td>\n",
       "      <td>0.0</td>\n",
       "      <td>...</td>\n",
       "      <td>0</td>\n",
       "      <td>0</td>\n",
       "      <td>0</td>\n",
       "      <td>0</td>\n",
       "      <td>0</td>\n",
       "      <td>0</td>\n",
       "      <td>0</td>\n",
       "      <td>0</td>\n",
       "      <td>0</td>\n",
       "      <td>0</td>\n",
       "    </tr>\n",
       "  </tbody>\n",
       "</table>\n",
       "<p>5 rows × 1077 columns</p>\n",
       "</div>"
      ],
      "text/plain": [
       "              x Chemical_Id  Assay_Id    V2          V3     V4     V5   V6  \\\n",
       "0  88-60-8;1682     88-60-8      1682  6937  164.120115  3.659  20.23  0.0   \n",
       "1  88-60-8;2451     88-60-8      2451  6937  164.120115  3.659  20.23  0.0   \n",
       "2  88-60-8;2442     88-60-8      2442  6937  164.120115  3.659  20.23  0.0   \n",
       "3    88-60-8;32     88-60-8        32  6937  164.120115  3.659  20.23  0.0   \n",
       "4  88-60-8;1382     88-60-8      1382  6937  164.120115  3.659  20.23  0.0   \n",
       "\n",
       "    V7   V8  ...  V1066  V1067  V1068  V1069  V1070  V1071  V1072  V1073  \\\n",
       "0  0.0  0.0  ...      0      0      0      0      0      0      0      0   \n",
       "1  0.0  0.0  ...      0      0      0      0      0      0      0      0   \n",
       "2  0.0  0.0  ...      0      0      0      0      0      0      0      0   \n",
       "3  0.0  0.0  ...      0      0      0      0      0      0      0      0   \n",
       "4  0.0  0.0  ...      0      0      0      0      0      0      0      0   \n",
       "\n",
       "   V1074  V1075  \n",
       "0      0      0  \n",
       "1      0      0  \n",
       "2      0      0  \n",
       "3      0      0  \n",
       "4      0      0  \n",
       "\n",
       "[5 rows x 1077 columns]"
      ]
     },
     "execution_count": 4,
     "metadata": {},
     "output_type": "execute_result"
    }
   ],
   "source": [
    "# Visualizing testing data of chemicals\n",
    "test_chemicals.head()"
   ]
  },
  {
   "cell_type": "code",
   "execution_count": 5,
   "metadata": {},
   "outputs": [],
   "source": [
    "# Replacing infinite values of column V15 with their mean values\n",
    "chemicals['V15'].replace([np.inf, -np.inf], np.nan, inplace=True) # Replacing infinite values with NaN\n",
    "test_chemicals['V15'].replace([np.inf, -np.inf], np.nan, inplace=True) # Replacing NaN values with mean values\n",
    "# Repeating the process for test data\n",
    "chemicals['V15'] = chemicals['V15'].fillna(chemicals['V15'].mean())\n",
    "test_chemicals['V15'] = test_chemicals['V15'].fillna(test_chemicals['V15'].mean())"
   ]
  },
  {
   "cell_type": "code",
   "execution_count": 6,
   "metadata": {},
   "outputs": [],
   "source": [
    "# Choosing sample dataset with features used to train the model\n",
    "X = chemicals.iloc[:, 3:]\n",
    "\n",
    "y = chemicals['Expected']"
   ]
  },
  {
   "cell_type": "code",
   "execution_count": 7,
   "metadata": {},
   "outputs": [
    {
     "name": "stdout",
     "output_type": "stream",
     "text": [
      "Original dataset shape Counter({2: 66495, 1: 10918})\n"
     ]
    }
   ],
   "source": [
    "from collections import Counter\n",
    "print('Original dataset shape {}'.format(Counter(y)))"
   ]
  },
  {
   "cell_type": "code",
   "execution_count": 8,
   "metadata": {},
   "outputs": [],
   "source": [
    "# Performing Undersampling on the imbalanced data using imbalanced-learn API\n",
    "from imblearn.under_sampling import TomekLinks\n",
    "undersample = TomekLinks(sampling_strategy='auto')\n",
    "X, y  = undersample.fit_resample(X, y)"
   ]
  },
  {
   "cell_type": "code",
   "execution_count": 9,
   "metadata": {},
   "outputs": [
    {
     "name": "stdout",
     "output_type": "stream",
     "text": [
      "Resampled dataset shape Counter({2: 63396, 1: 10918})\n"
     ]
    }
   ],
   "source": [
    "print('Resampled dataset shape {}'.format(Counter(y)))"
   ]
  },
  {
   "cell_type": "code",
   "execution_count": 10,
   "metadata": {},
   "outputs": [],
   "source": [
    "# Splitting the sampled data into train and test sets\n",
    "from sklearn.model_selection import train_test_split \n",
    "X_train, X_test, y_train, y_test = train_test_split(X, y, test_size=0.2, random_state=0)"
   ]
  },
  {
   "cell_type": "code",
   "execution_count": 11,
   "metadata": {},
   "outputs": [],
   "source": [
    "# Creating a pipeline to perform Feature Selection and Classification using SelectFromModel\n",
    "from sklearn.pipeline import Pipeline\n",
    "from sklearn.feature_selection import SelectFromModel\n",
    "from sklearn.tree import DecisionTreeClassifier\n",
    "from sklearn.ensemble import ExtraTreesClassifier\n",
    "from sklearn.ensemble import AdaBoostClassifier\n",
    "\n",
    "clf = Pipeline([\n",
    "  ('feature_selection', SelectFromModel(ExtraTreesClassifier(n_estimators=300, random_state=0))),\n",
    "  ('classification',  AdaBoostClassifier(base_estimator=DecisionTreeClassifier(max_depth=6), n_estimators=600, random_state=0, learning_rate=1.6,\n",
    "    algorithm=\"SAMME\"))\n",
    "])"
   ]
  },
  {
   "cell_type": "code",
   "execution_count": 12,
   "metadata": {},
   "outputs": [],
   "source": [
    "# Training the model\n",
    "model = clf.fit(X_train, y_train)"
   ]
  },
  {
   "cell_type": "code",
   "execution_count": 13,
   "metadata": {},
   "outputs": [],
   "source": [
    "# Prediction on X_test\n",
    "Predicted_Chemicals = model.predict(X_test)"
   ]
  },
  {
   "cell_type": "code",
   "execution_count": 14,
   "metadata": {},
   "outputs": [
    {
     "data": {
      "text/plain": [
       "0.9076902375025231"
      ]
     },
     "execution_count": 14,
     "metadata": {},
     "output_type": "execute_result"
    }
   ],
   "source": [
    "# Accuracy score of the model\n",
    "model.score(X_test, y_test)"
   ]
  },
  {
   "cell_type": "code",
   "execution_count": 15,
   "metadata": {},
   "outputs": [
    {
     "data": {
      "text/plain": [
       "0.8029974705043526"
      ]
     },
     "execution_count": 15,
     "metadata": {},
     "output_type": "execute_result"
    }
   ],
   "source": [
    "# Internal evaluation F1 score (macro)\n",
    "from sklearn.metrics import f1_score\n",
    "f1_score(y_test, Predicted_Chemicals, average='macro')"
   ]
  },
  {
   "cell_type": "code",
   "execution_count": 16,
   "metadata": {},
   "outputs": [],
   "source": [
    "# Predicting results on Testing data\n",
    "inp = test_chemicals.iloc[:, 2:]\n",
    "\n",
    "result = model.predict(inp)"
   ]
  },
  {
   "cell_type": "code",
   "execution_count": 17,
   "metadata": {},
   "outputs": [],
   "source": [
    "# Generate csv of predicted data\n",
    "result_csv = {'Id': test_chemicals.x, 'Predicted':result}\n",
    "pd.DataFrame(result_csv).to_csv('submission_1.csv',index=False)"
   ]
  }
 ],
 "metadata": {
  "kernelspec": {
   "display_name": "Python 3",
   "language": "python",
   "name": "python3"
  },
  "language_info": {
   "codemirror_mode": {
    "name": "ipython",
    "version": 3
   },
   "file_extension": ".py",
   "mimetype": "text/x-python",
   "name": "python",
   "nbconvert_exporter": "python",
   "pygments_lexer": "ipython3",
   "version": "3.8.3"
  }
 },
 "nbformat": 4,
 "nbformat_minor": 4
}
